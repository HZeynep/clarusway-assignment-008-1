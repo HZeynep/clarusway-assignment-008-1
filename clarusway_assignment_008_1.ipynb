{
  "nbformat": 4,
  "nbformat_minor": 0,
  "metadata": {
    "colab": {
      "name": "clarusway-assignment-008-1.ipynb",
      "provenance": [],
      "authorship_tag": "ABX9TyP9AAURsVibtoA9tmQMHqjj",
      "include_colab_link": true
    },
    "kernelspec": {
      "name": "python3",
      "display_name": "Python 3"
    },
    "language_info": {
      "name": "python"
    }
  },
  "cells": [
    {
      "cell_type": "markdown",
      "metadata": {
        "id": "view-in-github",
        "colab_type": "text"
      },
      "source": [
        "<a href=\"https://colab.research.google.com/github/HZeynep/clarusway-assignment-008-1/blob/main/clarusway_assignment_008_1.ipynb\" target=\"_parent\"><img src=\"https://colab.research.google.com/assets/colab-badge.svg\" alt=\"Open In Colab\"/></a>"
      ]
    },
    {
      "cell_type": "code",
      "metadata": {
        "id": "wnGjSG9CNZ3b"
      },
      "source": [
        "name = \"Zeynep\"\n",
        "password = \"123abc.\"\n",
        "login = input(\"Enter your name: \").strip().title()\n",
        "if name == login :\n",
        "  print(f\"Hello {name}! The password is : {password}\")\n",
        "else :\n",
        "  print(f\"Hello {login}! See you later!\")"
      ],
      "execution_count": null,
      "outputs": []
    },
    {
      "cell_type": "code",
      "metadata": {
        "id": "FwYTb2HIw7su"
      },
      "source": [
        "#Assignment-008/2 (Covid-19 Risk)\n",
        "#Task : Estimating the risk of death from coronavirus. Write a program that;\n",
        "#Takes \"Yes\" or \"No\" from the user as an answer to the following questions :\n",
        "#Are you a cigarette addict older than 75 years old? Variable → age\n",
        "#Do you have a severe chronic disease? Variable → chronic\n",
        "#Is your immune system too weak? Variable → immune\n",
        "#Set a logical algorithm using boolean logic operators (and/or) and use if-statements with the given variables in order to print out us a message : \n",
        "#\"You are in risky group\"(if True ) or \"You are not in risky group\" (if False).\n",
        "#age =  # can be assigned only True/False\n",
        "#chronic =  # can be assigned only True/False\n",
        "#immune =  # can be assigned only True/False\n",
        "#risk = ?\n",
        "\n",
        "age = input(\"Are you a cigarette addict older than 75 years old? (Yes or No):  \").title()\n",
        "chronic = input(\"Do you have a severe chronic disease? (Yes or No): \").title()\n",
        "immune = input(\"Is your immune system too weak? (Yes or No): \").title()\n",
        "\n",
        "if age == 'Yes':\n",
        "  age = True\n",
        "else :\n",
        "    age = False\n",
        "if chronic == 'Yes':\n",
        "  chronic = True\n",
        "else :\n",
        "    chronic = False\n",
        "if immune == 'Yes' :\n",
        "  immune = True\n",
        "else :\n",
        "    immune = False\n",
        "if age and chronic and immune :\n",
        "  print(\"You are in risky group\")\n",
        "else :\n",
        "  print(\"You are not in risky group\")\n",
        "\n"
      ],
      "execution_count": null,
      "outputs": []
    }
  ]
}