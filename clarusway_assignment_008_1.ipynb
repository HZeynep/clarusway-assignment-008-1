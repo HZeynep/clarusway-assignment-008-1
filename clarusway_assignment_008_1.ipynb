{
  "nbformat": 4,
  "nbformat_minor": 0,
  "metadata": {
    "colab": {
      "name": "clarusway-assignment-008-1.ipynb",
      "provenance": [],
      "authorship_tag": "ABX9TyNQRWzfKJWjziMGhrDiALFU",
      "include_colab_link": true
    },
    "kernelspec": {
      "name": "python3",
      "display_name": "Python 3"
    },
    "language_info": {
      "name": "python"
    }
  },
  "cells": [
    {
      "cell_type": "markdown",
      "metadata": {
        "id": "view-in-github",
        "colab_type": "text"
      },
      "source": [
        "<a href=\"https://colab.research.google.com/github/HZeynep/clarusway-assignment-008-1/blob/main/clarusway_assignment_008_1.ipynb\" target=\"_parent\"><img src=\"https://colab.research.google.com/assets/colab-badge.svg\" alt=\"Open In Colab\"/></a>"
      ]
    },
    {
      "cell_type": "code",
      "metadata": {
        "id": "wnGjSG9CNZ3b"
      },
      "source": [
        "name = \"Zeynep\"\n",
        "password = \"123abc.\"\n",
        "login = input(\"Enter your name: \").strip().title()\n",
        "if name == login :\n",
        "  print(f\"Hello {name}! The password is : {password}\")\n",
        "else :\n",
        "  print(f\"Hello {login}! See you later!\")"
      ],
      "execution_count": null,
      "outputs": []
    }
  ]
}