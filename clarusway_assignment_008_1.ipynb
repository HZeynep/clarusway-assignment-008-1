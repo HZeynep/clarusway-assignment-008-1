{
  "nbformat": 4,
  "nbformat_minor": 0,
  "metadata": {
    "colab": {
      "name": "clarusway-assignment-008-1.ipynb",
      "provenance": [],
      "authorship_tag": "ABX9TyNjTysPAroZYA2nfCK33dP4",
      "include_colab_link": true
    },
    "kernelspec": {
      "name": "python3",
      "display_name": "Python 3"
    },
    "language_info": {
      "name": "python"
    }
  },
  "cells": [
    {
      "cell_type": "markdown",
      "metadata": {
        "id": "view-in-github",
        "colab_type": "text"
      },
      "source": [
        "<a href=\"https://colab.research.google.com/github/HZeynep/clarusway-assignment-008-1/blob/main/clarusway_assignment_008_1.ipynb\" target=\"_parent\"><img src=\"https://colab.research.google.com/assets/colab-badge.svg\" alt=\"Open In Colab\"/></a>"
      ]
    },
    {
      "cell_type": "code",
      "metadata": {
        "id": "wnGjSG9CNZ3b"
      },
      "source": [
        "name = \"Zeynep\"\n",
        "password = \"123abc.\"\n",
        "login = input(\"Enter your name: \").strip().title()\n",
        "if name == login :\n",
        "  print(f\"Hello {name}! The password is : {password}\")\n",
        "else :\n",
        "  print(f\"Hello {login}! See you later!\")"
      ],
      "execution_count": null,
      "outputs": []
    },
    {
      "cell_type": "code",
      "metadata": {
        "id": "FwYTb2HIw7su"
      },
      "source": [
        "#Assignment-008/2 (Covid-19 Risk)\n",
        "#Task : Estimating the risk of death from coronavirus. Write a program that;\n",
        "#Takes \"Yes\" or \"No\" from the user as an answer to the following questions :\n",
        "#Are you a cigarette addict older than 75 years old? Variable → age\n",
        "#Do you have a severe chronic disease? Variable → chronic\n",
        "#Is your immune system too weak? Variable → immune\n",
        "#Set a logical algorithm using boolean logic operators (and/or) and use if-statements with the given variables in order to print out us a message : \n",
        "#\"You are in risky group\"(if True ) or \"You are not in risky group\" (if False).\n",
        "#age =  # can be assigned only True/False\n",
        "#chronic =  # can be assigned only True/False\n",
        "#immune =  # can be assigned only True/False\n",
        "#risk = ?\n",
        "\n",
        "age = input(\"Are you a cigarette addict older than 75 years old? (Yes or No):  \").title()\n",
        "chronic = input(\"Do you have a severe chronic disease? (Yes or No): \").title()\n",
        "immune = input(\"Is your immune system too weak? (Yes or No): \").title()\n",
        "\n",
        "if age == 'Yes':\n",
        "  age = True\n",
        "else :\n",
        "    age = False\n",
        "if chronic == 'Yes':\n",
        "  chronic = True\n",
        "else :\n",
        "    chronic = False\n",
        "if immune == 'Yes' :\n",
        "  immune = True\n",
        "else :\n",
        "    immune = False\n",
        "if age and chronic and immune :\n",
        "  print(\"You are in risky group\")\n",
        "else :\n",
        "  print(\"You are not in risky group\")\n",
        "\n"
      ],
      "execution_count": null,
      "outputs": []
    },
    {
      "cell_type": "code",
      "metadata": {
        "id": "dKb_kHtTrFFJ"
      },
      "source": [
        "#Assignment-008/3 (Is it an Armstrong Number?)\n",
        "#Task:\n",
        "#Find out if a given number is an \"Armstrong Number\".\n",
        "#An n-digit number that is the sum of the nth powers of its digits is called an n-Armstrong number. Examples :\n",
        "#371 = 33 + 73 + 13;\n",
        "#9474 = 94 + 44 + 74 + 44;\n",
        "#93084 = 95 + 35 + 05 + 85 + 45.\n",
        "#Write a Python program that;\n",
        "#takes a positive integer number from the user,\n",
        "#checks the entered number if it is Armstrong,\n",
        "#consider the negative, float and any entries other than numeric values then display a warning message to the user.\n",
        "\n",
        "number = input(\"Please enter a positive number: \")\n",
        "digits = len(number)\n",
        "toplam = 0\n",
        "\n",
        "if number.startswith(\"-\") or \".\" in number or \",\" in number or (not number.isdigit()):\n",
        "  print(\"It is an invalid entery.Don't use non-numeric,float or negative values!\")\n",
        "else:\n",
        "  for i in range(digits):\n",
        "    toplam = toplam + int(number[i])**digits\n",
        "  if int(number) == toplam:\n",
        "    print(number + \" is an Amstrong number.\")\n",
        "  else:\n",
        "    print(number + \" is not an Amstrong numner.\")\n"
      ],
      "execution_count": null,
      "outputs": []
    },
    {
      "cell_type": "code",
      "metadata": {
        "id": "XeNAQs3UryPx"
      },
      "source": [
        "#Assignment-008/4 (Is it a Prime Number?)\n",
        "#Task : Write a program that takes a number from the user and prints the result to check if it is a prime number.\n",
        "#The examples of the desired output are as follows :\n",
        "#input →  19 ⇉ output : 19 is a prime number\n",
        "#input →  10 ⇉ output : 10 is not a prime number\n",
        "\n",
        "a = int(input(\"Enter a number to check if it is a prime number.\"))\n",
        "sayac = 0\n",
        "for i in range(1, a+1) :\n",
        "    if a % i == 0 :\n",
        "        sayac += 1\n",
        "if (a == 0) or (a == 1) or (sayac >=3) :\n",
        "    print(n, \"is not a prime number.\")\n",
        "else:\n",
        "    print(n, \"is a prime number\")"
      ],
      "execution_count": null,
      "outputs": []
    },
    {
      "cell_type": "code",
      "metadata": {
        "colab": {
          "base_uri": "https://localhost:8080/"
        },
        "id": "Zn9wKeCN-ABW",
        "outputId": "76111f1b-3ae7-4d94-a8e1-d9d8f63f0969"
      },
      "source": [
        "#Assignment-008/5 (Fibonacci Numbers)\n",
        "#Task : Create a list consisting of Fibonacci numbers from 1 to 55 using control flow statements.\n",
        "a, b = 0, 1\n",
        "total = 55\n",
        "fibonacci_series = []\n",
        "\n",
        "while True:\n",
        "    (a, b) = (b, a + b)\n",
        "    if a > total:\n",
        "        break\n",
        "    fibonacci_series.append(a)\n",
        "\n",
        "print(fibonacci_series)"
      ],
      "execution_count": null,
      "outputs": [
        {
          "output_type": "stream",
          "text": [
            "[1, 1, 2, 3, 5, 8, 13, 21, 34, 55]\n"
          ],
          "name": "stdout"
        }
      ]
    },
    {
      "cell_type": "code",
      "metadata": {
        "id": "1SUxL6e0eFmg"
      },
      "source": [
        "#Assignment-008/6 (Prime Numbers)\n",
        "#Task : Print the prime numbers which are between 1 to entered limit number (n).\n",
        "#You can use a nested for loop.\n",
        "#Collect all these numbers into a list\n",
        "#The desired output for n=100 :\n",
        "#[2, 3, 5, 7, 11, 13, 17, 19, 23, 29, 31, 37, 41, 43, 47, 53, 59,61, 67, 71, 73, 79, 83, 89, 97]\n",
        "\n",
        "prime_numbers = []\n",
        "for x in range(2,100):\n",
        "    for y in range(2,100):\n",
        "        if x%y ==0 and  x!=y:\n",
        "            break\n",
        "        else:\n",
        "            for i in prime_numbers:\n",
        "                if  x%i ==0:\n",
        "                    break\n",
        "            else:\n",
        "                prime_numbers.append(x)\n",
        "\n",
        "print(prime_numbers)"
      ],
      "execution_count": null,
      "outputs": []
    },
    {
      "cell_type": "code",
      "metadata": {
        "id": "4_hPxBqIhdnM"
      },
      "source": [
        "#Assignment-008/8 (Leap Years)\n",
        "#Task:Find out if a given year is a \"leap\" year.\n",
        "#In the Gregorian calendar, three criteria must be taken into account to identify leap years:\n",
        "#The year must be evenly divisible by 4;\n",
        "#If the year can also be evenly divided by 100, it is not a leap year; unless...\n",
        "#The year is also evenly divisible by 400. Then it is a leap year.\n",
        "#According to these rules, the years 2000 and 2400 are leap years, while 1800, 1900, 2100, 2200, 2300, and 2500 are not the leap years.\n",
        "#Write a Python program that prints such as \"2020 is a leap year\" if the given year by the user is a leap year, prints such as \"2019 is not a leap year\" otherwise.\n",
        "\n",
        "year = int(input(\"Enter a year: \"))\n",
        "if year % 4 == 0 and year % 100 != 0:\n",
        "    print(year, \"is a Leap Year\")\n",
        "elif year % 100 == 0:\n",
        "    print(year, \"is not a Leap Year\")\n",
        "elif year % 400 ==0:\n",
        "    print(year, \"is a Leap Year\")\n",
        "else:\n",
        "    print(year, \"is not a Leap Year\")"
      ],
      "execution_count": null,
      "outputs": []
    }
  ]
}